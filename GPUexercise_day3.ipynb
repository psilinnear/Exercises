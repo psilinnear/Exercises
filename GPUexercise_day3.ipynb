{
  "nbformat": 4,
  "nbformat_minor": 0,
  "metadata": {
    "colab": {
      "provenance": [],
      "authorship_tag": "ABX9TyPXXagfeQjWtQYAjs2odGQk",
      "include_colab_link": true
    },
    "kernelspec": {
      "name": "python3",
      "display_name": "Python 3"
    },
    "language_info": {
      "name": "python"
    },
    "accelerator": "GPU",
    "gpuClass": "standard"
  },
  "cells": [
    {
      "cell_type": "markdown",
      "metadata": {
        "id": "view-in-github",
        "colab_type": "text"
      },
      "source": [
        "<a href=\"https://colab.research.google.com/github/psilinnear/Exercises/blob/main/GPUexercise_day3.ipynb\" target=\"_parent\"><img src=\"https://colab.research.google.com/assets/colab-badge.svg\" alt=\"Open In Colab\"/></a>"
      ]
    },
    {
      "cell_type": "code",
      "execution_count": 1,
      "metadata": {
        "colab": {
          "base_uri": "https://localhost:8080/"
        },
        "id": "ALZQvpfXavlN",
        "outputId": "12c2f1e3-0bb2-4003-ac5a-a15044c80894"
      },
      "outputs": [
        {
          "output_type": "stream",
          "name": "stdout",
          "text": [
            "Tue Mar 14 09:20:27 2023       \n",
            "+-----------------------------------------------------------------------------+\n",
            "| NVIDIA-SMI 525.85.12    Driver Version: 525.85.12    CUDA Version: 12.0     |\n",
            "|-------------------------------+----------------------+----------------------+\n",
            "| GPU  Name        Persistence-M| Bus-Id        Disp.A | Volatile Uncorr. ECC |\n",
            "| Fan  Temp  Perf  Pwr:Usage/Cap|         Memory-Usage | GPU-Util  Compute M. |\n",
            "|                               |                      |               MIG M. |\n",
            "|===============================+======================+======================|\n",
            "|   0  Tesla T4            Off  | 00000000:00:04.0 Off |                    0 |\n",
            "| N/A   45C    P0    25W /  70W |      0MiB / 15360MiB |      0%      Default |\n",
            "|                               |                      |                  N/A |\n",
            "+-------------------------------+----------------------+----------------------+\n",
            "                                                                               \n",
            "+-----------------------------------------------------------------------------+\n",
            "| Processes:                                                                  |\n",
            "|  GPU   GI   CI        PID   Type   Process name                  GPU Memory |\n",
            "|        ID   ID                                                   Usage      |\n",
            "|=============================================================================|\n",
            "|  No running processes found                                                 |\n",
            "+-----------------------------------------------------------------------------+\n"
          ]
        }
      ],
      "source": [
        "!nvidia-smi"
      ]
    },
    {
      "cell_type": "code",
      "source": [
        "import numpy as np\n",
        "import cupy as cp\n",
        "\n",
        "sizes = [128, 256, 512, 1024, 2048]\n",
        "\n",
        "for size in sizes:\n",
        "    np_arr = np.random.randn(size, size)\n",
        "    cp_arr = cp.asarray(np_arr)\n",
        "\n",
        "    np_time = %timeit -o np.fft.fft2(np_arr)\n",
        "    cp_time = %timeit -o cp.fft.fft2(cp_arr)\n",
        "\n",
        "    print(f\"Size {size}x{size}: NumPy: {np_time.best:.5f}s, CuPy: {cp_time.best:.5f}s\")"
      ],
      "metadata": {
        "colab": {
          "base_uri": "https://localhost:8080/"
        },
        "id": "tvBxw5G2bn7V",
        "outputId": "06d701c6-947f-42e4-810a-22f960d7385c"
      },
      "execution_count": 2,
      "outputs": [
        {
          "output_type": "stream",
          "name": "stdout",
          "text": [
            "220 µs ± 5.6 µs per loop (mean ± std. dev. of 7 runs, 1000 loops each)\n",
            "104 µs ± 59.7 µs per loop (mean ± std. dev. of 7 runs, 1 loop each)\n",
            "Size 128x128: NumPy: 0.00021s, CuPy: 0.00007s\n",
            "1.17 ms ± 257 µs per loop (mean ± std. dev. of 7 runs, 1000 loops each)\n",
            "67.1 µs ± 1.24 µs per loop (mean ± std. dev. of 7 runs, 10000 loops each)\n",
            "Size 256x256: NumPy: 0.00100s, CuPy: 0.00007s\n",
            "6.46 ms ± 1.32 ms per loop (mean ± std. dev. of 7 runs, 100 loops each)\n",
            "253 µs ± 2.02 µs per loop (mean ± std. dev. of 7 runs, 1000 loops each)\n",
            "Size 512x512: NumPy: 0.00503s, CuPy: 0.00025s\n",
            "28 ms ± 1.79 ms per loop (mean ± std. dev. of 7 runs, 10 loops each)\n",
            "1.08 ms ± 706 ns per loop (mean ± std. dev. of 7 runs, 1000 loops each)\n",
            "Size 1024x1024: NumPy: 0.02653s, CuPy: 0.00108s\n",
            "156 ms ± 21.8 ms per loop (mean ± std. dev. of 7 runs, 10 loops each)\n",
            "4.08 ms ± 13.4 µs per loop (mean ± std. dev. of 7 runs, 1000 loops each)\n",
            "Size 2048x2048: NumPy: 0.14484s, CuPy: 0.00407s\n"
          ]
        }
      ]
    },
    {
      "cell_type": "markdown",
      "source": [
        "The output was:\n",
        "Size 128x128: NumPy: 0.00021s, CuPy: 0.00007s\n",
        "\n",
        "Size 256x256: NumPy: 0.00100s, CuPy: 0.00007s\n",
        "\n",
        "Size 512x512: NumPy: 0.00503s, CuPy: 0.00025s\n",
        "\n",
        "Size 1024x1024: NumPy: 0.02653s, CuPy: 0.00108s\n",
        "\n",
        "Size 2048x2048: NumPy: 0.14484s, CuPy: 0.00407s\n",
        "\n",
        "Which means that CuPy was always faster then Numpy. \n",
        "128x128: Cupy was 3 times as fast\n",
        "256x256: Cupy was 14 times as fast\n",
        "512x512: Cupy was 20 times as fast\n",
        "1024x1024: Cupy was 24 times as fast\n",
        "2048x2048: Cupy was 36 times as fast\n",
        "\n",
        "So the bigger size of the matrices, the bigger difference between CuPy and Numpy\n",
        "\n"
      ],
      "metadata": {
        "id": "6QoaakeDc2cK"
      }
    },
    {
      "cell_type": "code",
      "source": [],
      "metadata": {
        "id": "ZDF6beLCdshl"
      },
      "execution_count": null,
      "outputs": []
    }
  ]
}